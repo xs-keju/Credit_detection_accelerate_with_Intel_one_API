{
 "cells": [
  {
   "cell_type": "markdown",
   "id": "d12ae643-0f0f-4ba1-9168-28b32abc84b8",
   "metadata": {},
   "source": [
    "# 银行欺诈交易的检测\n",
    "* 分别训练随机森林模型和Xgboost模型，获取F1和time指标（使用intel加速的库）"
   ]
  },
  {
   "cell_type": "code",
   "execution_count": 37,
   "id": "0cc703f5-46ca-4a51-bcc7-be93e74190e7",
   "metadata": {},
   "outputs": [],
   "source": [
    "import os\n",
    "import pickle\n",
    "import pandas as pd \n",
    "from collections import Counter\n",
    "from imblearn.over_sampling import SMOTE\n",
    "from sklearn.cluster import KMeans\n",
    "from sklearn.preprocessing import StandardScaler\n",
    "from sklearn.model_selection import train_test_split\n",
    "from sklearn.ensemble import RandomForestClassifier\n",
    "from xgboost import XGBClassifier\n",
    "from sklearn.metrics import precision_recall_curve, auc, f1_score, accuracy_score\n",
    "import time\n",
    "import matplotlib.pyplot as plt\n",
    "import seaborn as sns\n",
    "import numpy as np\n",
    "from scipy import stats"
   ]
  },
  {
   "cell_type": "markdown",
   "id": "3ad730bf-ce5e-481c-a0b6-a1a2f000d9bd",
   "metadata": {},
   "source": [
    "读取数据"
   ]
  },
  {
   "cell_type": "code",
   "execution_count": 38,
   "id": "d4a4c817-5fae-480b-9760-831a4334da32",
   "metadata": {},
   "outputs": [
    {
     "name": "stdout",
     "output_type": "stream",
     "text": [
      "Reading Data...\n",
      "Reading finished\n",
      "read time:  1.6188442707061768\n"
     ]
    }
   ],
   "source": [
    "start_time=time.time()\n",
    "print(\"Reading Data...\")\n",
    "data = pd.read_csv(\"./creditcard.csv\")\n",
    "print(\"Reading finished\")\n",
    "print(\"read time: \",time.time()-start_time)"
   ]
  },
  {
   "cell_type": "markdown",
   "id": "537e2a91-2cdb-4cf8-8f14-53471c68d87c",
   "metadata": {},
   "source": [
    "数据预处理"
   ]
  },
  {
   "cell_type": "code",
   "execution_count": 39,
   "id": "e9b65dc2-0ecb-41d9-b965-54b117181239",
   "metadata": {},
   "outputs": [
    {
     "name": "stdout",
     "output_type": "stream",
     "text": [
      "Processing Data...\n",
      "Time      0\n",
      "V1        0\n",
      "V2        0\n",
      "V3        0\n",
      "V4        0\n",
      "V5        0\n",
      "V6        0\n",
      "V7        0\n",
      "V8        0\n",
      "V9        0\n",
      "V10       0\n",
      "V11       0\n",
      "V12       0\n",
      "V13       0\n",
      "V14       0\n",
      "V15       0\n",
      "V16       0\n",
      "V17       0\n",
      "V18       0\n",
      "V19       0\n",
      "V20       0\n",
      "V21       0\n",
      "V22       0\n",
      "V23       0\n",
      "V24       0\n",
      "V25       0\n",
      "V26       0\n",
      "V27       0\n",
      "V28       0\n",
      "Amount    0\n",
      "Class     0\n",
      "dtype: int64\n",
      "<class 'pandas.core.frame.DataFrame'>\n",
      "RangeIndex: 284807 entries, 0 to 284806\n",
      "Data columns (total 31 columns):\n",
      " #   Column  Non-Null Count   Dtype  \n",
      "---  ------  --------------   -----  \n",
      " 0   Time    284807 non-null  float64\n",
      " 1   V1      284807 non-null  float64\n",
      " 2   V2      284807 non-null  float64\n",
      " 3   V3      284807 non-null  float64\n",
      " 4   V4      284807 non-null  float64\n",
      " 5   V5      284807 non-null  float64\n",
      " 6   V6      284807 non-null  float64\n",
      " 7   V7      284807 non-null  float64\n",
      " 8   V8      284807 non-null  float64\n",
      " 9   V9      284807 non-null  float64\n",
      " 10  V10     284807 non-null  float64\n",
      " 11  V11     284807 non-null  float64\n",
      " 12  V12     284807 non-null  float64\n",
      " 13  V13     284807 non-null  float64\n",
      " 14  V14     284807 non-null  float64\n",
      " 15  V15     284807 non-null  float64\n",
      " 16  V16     284807 non-null  float64\n",
      " 17  V17     284807 non-null  float64\n",
      " 18  V18     284807 non-null  float64\n",
      " 19  V19     284807 non-null  float64\n",
      " 20  V20     284807 non-null  float64\n",
      " 21  V21     284807 non-null  float64\n",
      " 22  V22     284807 non-null  float64\n",
      " 23  V23     284807 non-null  float64\n",
      " 24  V24     284807 non-null  float64\n",
      " 25  V25     284807 non-null  float64\n",
      " 26  V26     284807 non-null  float64\n",
      " 27  V27     284807 non-null  float64\n",
      " 28  V28     284807 non-null  float64\n",
      " 29  Amount  284807 non-null  float64\n",
      " 30  Class   284807 non-null  int64  \n",
      "dtypes: float64(30), int64(1)\n",
      "memory usage: 67.4 MB\n",
      "[0 1]\n",
      "                 V24            V25            V26            V27  \\\n",
      "count  284720.000000  284720.000000  284720.000000  284720.000000   \n",
      "mean       -0.000146       0.000250       0.000019       0.000092   \n",
      "std         0.605382       0.517320       0.482014       0.387883   \n",
      "min        -2.836627      -4.541819      -1.855355      -9.390980   \n",
      "25%        -0.354583      -0.317062      -0.326967      -0.070815   \n",
      "50%         0.040920       0.016596      -0.052134       0.001344   \n",
      "75%         0.439406       0.350682       0.240945       0.091015   \n",
      "max         4.022866       5.541598       3.517346      10.507884   \n",
      "\n",
      "                 V28         Amount          Class  NormalAmount  \n",
      "count  284720.000000  284720.000000  284720.000000  2.847200e+05  \n",
      "mean       -0.001161      87.410228       0.001696  6.348766e-17  \n",
      "std         0.288408     228.733735       0.041153  1.000002e+00  \n",
      "min        -8.656570       0.000000       0.000000 -3.821491e-01  \n",
      "25%        -0.052957       5.590000       0.000000 -3.577101e-01  \n",
      "50%         0.011232      22.000000       0.000000 -2.859672e-01  \n",
      "75%         0.078227      77.050000       0.000000 -4.529391e-02  \n",
      "max         9.876371    7583.320000       1.000000  3.277139e+01  \n"
     ]
    }
   ],
   "source": [
    "start_time=time.time()\n",
    "print(\"Processing Data...\")\n",
    "print(data.isnull().sum()) # 缺失值检查\n",
    "data = data.dropna()  # 直接丢失含有缺失值的行记录\n",
    "data.info()   # 异常值检查\n",
    "print(data.Class.unique())  # Class列取值检查\n",
    "\n",
    "# df[\"days\"], df[\"hours\"], df[\"minutes\"], df[\"seconds\"] = zip(*df[\"Time\"].map(convert_seconds))   # 拆分Time特征\n",
    "# plt.figure(figsize=(15,15))\n",
    "# for i in range(0,data.shape[1]-1):\n",
    "#     plt.subplot(6,5,i+1)\n",
    "#     sns.distplot(data.iloc[:,i],kde=True)\n",
    "# plt.show()\n",
    "# 提取特征数据，去除不需要的列\n",
    "features = data.drop([\"Time\",\"Class\"], axis=1)\n",
    "features=np.array(features)\n",
    "# 计算每个特征的Z-score\n",
    "z_scores = np.abs(stats.zscore(features))\n",
    "# 设置离群值的阈值\n",
    "threshold = 30\n",
    "# 检测离群值\n",
    "outliers = np.where(z_scores > threshold)\n",
    "# 去除离群值所在的行\n",
    "data = data.drop(outliers[0], axis=0)\n",
    "\n",
    "# # 连续变量离散化\n",
    "# list = ['V1', 'V2', 'V3', 'V4', 'V5', 'V6', 'V7', 'V8', 'V9', 'V10', 'V11', 'V12', 'V13',\n",
    "#         'V14', 'V15', 'V16', 'V17', 'V18', 'V19', 'V20', 'V21', 'V22', 'V23', 'V24', 'V25',\n",
    "#     'V26', 'V27', 'V28', 'NormalAmount']\n",
    "# for column in list:\n",
    "#     df = [[x] for x in data[column]]\n",
    "#     kmeans = KMeans(n_clusters=6, random_state=0).fit(df)\n",
    "#     data[column] = kmeans.labels_\n",
    "\n",
    "# 标准化Amount属性，使量级相同\n",
    "data['NormalAmount']=StandardScaler().fit_transform(np.array(data.Amount).reshape(-1,1))\n",
    "print(data.describe().iloc[:,-8:])"
   ]
  },
  {
   "cell_type": "markdown",
   "id": "0516bf74-81fa-4fa5-8d62-42e28401551b",
   "metadata": {},
   "source": [
    "特征列和目标列"
   ]
  },
  {
   "cell_type": "code",
   "execution_count": 40,
   "id": "9f053334-0cd1-4d35-b1f7-78060fb30385",
   "metadata": {},
   "outputs": [
    {
     "name": "stdout",
     "output_type": "stream",
     "text": [
      "Processing Data finished\n",
      "Processing Data time:  0.7739191055297852\n"
     ]
    }
   ],
   "source": [
    "feature_cols = ['V1', 'V2', 'V3', 'V4', 'V5', 'V6', 'V7', 'V8', 'V9', 'V10', 'V11',\n",
    "            'V12', 'V13',\n",
    "            'V14', 'V15', 'V16', 'V17', 'V18', 'V19', 'V20', 'V21', 'V22', 'V23', 'V24', 'V25',\n",
    "            'V26', 'V27', 'V28', 'NormalAmount']\n",
    "features = data[feature_cols]\n",
    "target = data['Class']\n",
    "print(\"Processing Data finished\")\n",
    "print(\"Processing Data time: \",time.time()-start_time)"
   ]
  },
  {
   "cell_type": "markdown",
   "id": "397b633e-ecec-4254-ac81-532c9107b2b8",
   "metadata": {},
   "source": [
    "划分训练集和测试集"
   ]
  },
  {
   "cell_type": "code",
   "execution_count": 41,
   "id": "73bff8f9-5825-4f9f-96a6-a59575236109",
   "metadata": {},
   "outputs": [],
   "source": [
    "X_train, X_test, y_train, y_test = train_test_split(features, target, test_size=0.2, random_state=42)"
   ]
  },
  {
   "cell_type": "markdown",
   "id": "b402a962-0ab6-4ff5-a20a-a85c356e709a",
   "metadata": {},
   "source": [
    "训练集中处理不平衡问题"
   ]
  },
  {
   "cell_type": "code",
   "execution_count": 42,
   "id": "b7c8e18e-634c-40d7-9866-fb696ee5bc1f",
   "metadata": {},
   "outputs": [
    {
     "name": "stdout",
     "output_type": "stream",
     "text": [
      "Original dataset shape Counter({0: 227384, 1: 392})\n",
      "Resampled dataset shape Counter({0: 227384, 1: 1136})\n"
     ]
    }
   ],
   "source": [
    "sm=SMOTE(sampling_strategy=1/200,random_state=42)\n",
    "print('Original dataset shape %s' % Counter(y_train))\n",
    "X_res, y_res = sm.fit_resample(X_train, y_train)\n",
    "print('Resampled dataset shape %s' % Counter(y_res))\n",
    "X_train = pd.DataFrame(X_res, columns=X_train.columns)\n",
    "y_train = pd.Series(y_res, name='Class')"
   ]
  },
  {
   "cell_type": "markdown",
   "id": "64760dae-43f4-4736-bfdc-11d5752a6e11",
   "metadata": {},
   "source": [
    "随机森林模型"
   ]
  },
  {
   "cell_type": "code",
   "execution_count": 43,
   "id": "b61bc67c-9dae-4caf-b028-feea883f2e32",
   "metadata": {},
   "outputs": [],
   "source": [
    "rf_model = RandomForestClassifier(random_state=42)"
   ]
  },
  {
   "cell_type": "markdown",
   "id": "3c733b6a-2d44-4eb6-8fea-986a9a832fea",
   "metadata": {},
   "source": [
    "训练随机森林模型（若存在则直接读取）"
   ]
  },
  {
   "cell_type": "code",
   "execution_count": 44,
   "id": "a9e67b60-ff9d-436e-a4ce-38ac2fbfdac7",
   "metadata": {},
   "outputs": [],
   "source": [
    "start_time = time.time()\n",
    "model_file = 'random_forest_model_stock.pkl'\n",
    "if os.path.exists(model_file):\n",
    "    with open(model_file, 'rb') as file:\n",
    "        rf_model = pickle.load(file)\n",
    "else:\n",
    "    rf_model.fit(X_train, y_train)\n",
    "    with open('random_forest_model_stock.pkl', 'wb') as file:\n",
    "        pickle.dump(rf_model, file)\n",
    "training_time_rf = time.time() - start_time"
   ]
  },
  {
   "cell_type": "markdown",
   "id": "538b1026-79eb-4155-9467-68cdc51ca41d",
   "metadata": {},
   "source": [
    "在测试集上预测"
   ]
  },
  {
   "cell_type": "code",
   "execution_count": 45,
   "id": "d17e4737-315d-4428-8b47-a32c807796de",
   "metadata": {},
   "outputs": [],
   "source": [
    "start_time = time.time()\n",
    "y_pred_rf = rf_model.predict(X_test)\n",
    "predicting_time_rf = time.time() - start_time"
   ]
  },
  {
   "cell_type": "markdown",
   "id": "ac26e5b6-f644-4129-b7e4-9c9b850d1d77",
   "metadata": {},
   "source": [
    "计算F1分数和准确度"
   ]
  },
  {
   "cell_type": "code",
   "execution_count": 46,
   "id": "2e50bb15-9005-48c5-afe3-c64501af91de",
   "metadata": {},
   "outputs": [],
   "source": [
    "f1_rf = f1_score(y_test, y_pred_rf)\n",
    "accuracy_rf = accuracy_score(y_test, y_pred_rf)"
   ]
  },
  {
   "cell_type": "markdown",
   "id": "d5d4609a-c402-4315-b9d5-b525c5d29c4a",
   "metadata": {},
   "source": [
    "输出结果"
   ]
  },
  {
   "cell_type": "code",
   "execution_count": 47,
   "id": "4557ed82-a3b3-4c55-a44a-d6b7f6b65d29",
   "metadata": {},
   "outputs": [
    {
     "name": "stdout",
     "output_type": "stream",
     "text": [
      "Random Forest:\n",
      "F1 Score: 0.8452\n",
      "Accuracy: 0.9995\n",
      "Training Time: 215.2268 seconds\n",
      "Predicting Time: 0.4690 seconds\n"
     ]
    }
   ],
   "source": [
    "print(\"Random Forest:\")\n",
    "print(\"F1 Score: {:.4f}\".format(f1_rf))\n",
    "print(\"Accuracy: {:.4f}\".format(accuracy_rf))\n",
    "print(\"Training Time: {:.4f} seconds\".format(training_time_rf))\n",
    "print(\"Predicting Time: {:.4f} seconds\".format(predicting_time_rf))"
   ]
  },
  {
   "cell_type": "markdown",
   "id": "1cb4a08a-ce74-4eaf-8123-4fbbf349827c",
   "metadata": {},
   "source": [
    "计算AUPRC"
   ]
  },
  {
   "cell_type": "code",
   "execution_count": 48,
   "id": "83eebdcb-0e2c-4b2f-8606-56ffcb9d2f86",
   "metadata": {},
   "outputs": [
    {
     "data": {
      "image/png": "[encoded data removed]",
      "text/plain": [
       "<Figure size 800x800 with 1 Axes>"
      ]
     },
     "metadata": {},
     "output_type": "display_data"
    }
   ],
   "source": [
    "precision_rf, recall_rf, _ = precision_recall_curve(y_test, y_pred_rf)\n",
    "auprc_rf = auc(recall_rf, precision_rf)\n",
    "plt.figure(figsize=(8, 8))\n",
    "plt.plot(recall_rf, precision_rf, label=f'Random Forest (AUPRC = {auprc_rf:.2f})', color='blue')\n",
    "plt.xlabel('Recall')\n",
    "plt.ylabel('Precision')\n",
    "plt.title('Precision-Recall Curve')\n",
    "plt.legend(loc='best')\n",
    "plt.show()"
   ]
  },
  {
   "cell_type": "markdown",
   "id": "e38b5088-bf77-4623-9f00-14f7bd479f7a",
   "metadata": {},
   "source": [
    "## 使用XGBoost"
   ]
  },
  {
   "cell_type": "code",
   "execution_count": 49,
   "id": "0c8cfbac-dbb8-4dd4-843c-8b5fbe504019",
   "metadata": {},
   "outputs": [],
   "source": [
    "xgb_model = XGBClassifier(random_state=42)"
   ]
  },
  {
   "cell_type": "markdown",
   "id": "532f77ea-4829-4e27-9788-97b41692ca4b",
   "metadata": {},
   "source": [
    "训练xgboost模型（若存在则直接读取）"
   ]
  },
  {
   "cell_type": "code",
   "execution_count": 50,
   "id": "6faec0b7-11ad-420e-9e4f-6a4a48047f30",
   "metadata": {},
   "outputs": [],
   "source": [
    "start_time = time.time()\n",
    "model_file = 'xgboost_model_stock.pkl'\n",
    "if os.path.exists(model_file):\n",
    "    with open(model_file, 'rb') as file:\n",
    "        xgb_model = pickle.load(file)\n",
    "else:\n",
    "    xgb_model.fit(X_train, y_train)\n",
    "    with open('xgboost_model_stock.pkl', 'wb') as file:\n",
    "        pickle.dump(xgb_model, file)\n",
    "training_time_xgb = time.time() - start_time"
   ]
  },
  {
   "cell_type": "markdown",
   "id": "19f6bd6c-828f-4298-afb5-1785e99c7e7a",
   "metadata": {},
   "source": [
    "在预测集上预测"
   ]
  },
  {
   "cell_type": "code",
   "execution_count": 51,
   "id": "76a6c52d-6199-49cc-a895-06217c4ed62b",
   "metadata": {},
   "outputs": [],
   "source": [
    "start_time = time.time()\n",
    "y_pred_xgb = xgb_model.predict(X_test)\n",
    "predicting_time_xgb = time.time() - start_time"
   ]
  },
  {
   "cell_type": "markdown",
   "id": "9eba51ed-02a0-49f3-b11a-4333362afb0a",
   "metadata": {},
   "source": [
    "计算F1分数和准确度"
   ]
  },
  {
   "cell_type": "code",
   "execution_count": 52,
   "id": "502664a1-f184-4c3a-87d5-2121e0069e54",
   "metadata": {},
   "outputs": [],
   "source": [
    "f1_xgb = f1_score(y_test, y_pred_xgb)\n",
    "accuracy_xgb = accuracy_score(y_test, y_pred_xgb)"
   ]
  },
  {
   "cell_type": "markdown",
   "id": "0a849592-c443-476b-94a7-f464d331d11e",
   "metadata": {},
   "source": [
    "结果"
   ]
  },
  {
   "cell_type": "code",
   "execution_count": 53,
   "id": "e933c850-06a2-44a1-aa17-91528e72d94f",
   "metadata": {},
   "outputs": [
    {
     "name": "stdout",
     "output_type": "stream",
     "text": [
      "\n",
      "XGBoost:\n",
      "F1 Score: 0.8675\n",
      "Accuracy: 0.9996\n",
      "Training Time: 66.9091 seconds\n",
      "Predicting Time: 0.0805 seconds\n"
     ]
    }
   ],
   "source": [
    "print(\"\\nXGBoost:\")\n",
    "print(\"F1 Score: {:.4f}\".format(f1_xgb))\n",
    "print(\"Accuracy: {:.4f}\".format(accuracy_xgb))\n",
    "print(\"Training Time: {:.4f} seconds\".format(training_time_xgb))\n",
    "print(\"Predicting Time: {:.4f} seconds\".format(predicting_time_xgb))"
   ]
  },
  {
   "cell_type": "markdown",
   "id": "88e2e5aa-ce2a-4c9a-8d1f-cfd8b97b6e8e",
   "metadata": {},
   "source": [
    "计算AUPRC"
   ]
  },
  {
   "cell_type": "code",
   "execution_count": 54,
   "id": "37aafc64-6afb-4b62-bdfb-7bb870b4a841",
   "metadata": {},
   "outputs": [
    {
     "data": {
      "image/png": "[encoded data removed]",
      "text/plain": [
       "<Figure size 800x800 with 1 Axes>"
      ]
     },
     "metadata": {},
     "output_type": "display_data"
    }
   ],
   "source": [
    "precision_xgb, recall_xgb, _ = precision_recall_curve(y_test, y_pred_xgb)\n",
    "auprc_xgb = auc(recall_xgb, precision_xgb)\n",
    "plt.figure(figsize=(8, 8))\n",
    "plt.plot(recall_xgb, precision_xgb, label=f'XGBoost (AUPRC = {auprc_xgb:.2f})', color='green')\n",
    "plt.xlabel('Recall')\n",
    "plt.ylabel('Precision')\n",
    "plt.title('Precision-Recall Curve')\n",
    "plt.legend(loc='best')\n",
    "plt.show()"
   ]
  }
 ],
 "metadata": {
  "kernelspec": {
   "display_name": "modin-hdk",
   "language": "python",
   "name": "modin-hdk"
  },
  "language_info": {
   "codemirror_mode": {
    "name": "ipython",
    "version": 3
   },
   "file_extension": ".py",
   "mimetype": "text/x-python",
   "name": "python",
   "nbconvert_exporter": "python",
   "pygments_lexer": "ipython3",
   "version": "3.10.12"
  }
 },
 "nbformat": 4,
 "nbformat_minor": 5
}
