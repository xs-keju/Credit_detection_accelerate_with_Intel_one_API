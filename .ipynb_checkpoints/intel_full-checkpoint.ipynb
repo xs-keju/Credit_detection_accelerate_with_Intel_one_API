{
 "cells": [
  {
   "cell_type": "markdown",
   "id": "b97812a5-7a45-4228-a4ec-0178c6c4fafb",
   "metadata": {},
   "source": [
    "# 银行欺诈交易的检测-intel加速\n",
    "* 使用了参数格搜索和交叉检测\n",
    "* 分别训练随机森林模型和Xgboost模型，获取F1和time指标"
   ]
  },
  {
   "cell_type": "code",
   "execution_count": null,
   "id": "18fca8d5-95d7-467f-b05d-b066c3bd0406",
   "metadata": {},
   "outputs": [],
   "source": [
    "import os\n",
    "import pickle\n",
    "import modin.pandas as pd # intel\n",
    "import modin.config as cfg # intel\n",
    "cfg.StorageFormat.put('hdk')\n",
    "from collections import Counter\n",
    "from imblearn.over_sampling import SMOTE\n",
    "from sklearn.cluster import KMeans\n",
    "from sklearn.preprocessing import StandardScaler\n",
    "from sklearn.model_selection import train_test_split, GridSearchCV, StratifiedKFold\n",
    "from sklearn.ensemble import RandomForestClassifier\n",
    "from xgboost import XGBClassifier\n",
    "from sklearn.metrics import make_scorer,precision_recall_curve, auc, f1_score, accuracy_score\n",
    "import time\n",
    "import matplotlib.pyplot as plt\n",
    "import seaborn as sns\n",
    "import numpy as np\n",
    "from scipy import stats\n",
    "from sklearnex import patch_sklearn # intel\n",
    "patch_sklearn() # intel"
   ]
  },
  {
   "cell_type": "markdown",
   "id": "9f5de307-d7ba-4f84-b646-9db86b3599c7",
   "metadata": {},
   "source": [
    "读取数据"
   ]
  },
  {
   "cell_type": "code",
   "execution_count": null,
   "id": "745dc4af-3b3a-4ad7-962b-97c619a6be12",
   "metadata": {},
   "outputs": [],
   "source": [
    "start_time=time.time()\n",
    "print(\"Reading Data...\")\n",
    "data = pd.read_csv(\"./creditcard.csv\")\n",
    "print(\"Reading finished\")\n",
    "print(\"read time: \",time.time()-start_time)"
   ]
  },
  {
   "cell_type": "markdown",
   "id": "f8b1edf0-02f8-4fef-b6ba-e34058b66d4c",
   "metadata": {},
   "source": [
    "数据预处理"
   ]
  },
  {
   "cell_type": "code",
   "execution_count": null,
   "id": "c151411f-5a31-47f8-94c7-4e2be984b5c8",
   "metadata": {},
   "outputs": [],
   "source": [
    "start_time=time.time()\n",
    "print(\"Processing Data...\")\n",
    "print(data.isnull().sum()) # 缺失值检查\n",
    "data = data.dropna()  # 直接丢失含有缺失值的行记录\n",
    "data.info()   # 异常值检查\n",
    "print(data.Class.unique())  # Class列取值检查\n",
    "\n",
    "# df[\"days\"], df[\"hours\"], df[\"minutes\"], df[\"seconds\"] = zip(*df[\"Time\"].map(convert_seconds))   # 拆分Time特征\n",
    "# plt.figure(figsize=(15,15))\n",
    "# for i in range(0,data.shape[1]-1):\n",
    "#     plt.subplot(6,5,i+1)\n",
    "#     sns.distplot(data.iloc[:,i],kde=True)\n",
    "# plt.show()\n",
    "# 提取特征数据，去除不需要的列\n",
    "features = data.drop([\"Time\",\"Class\"], axis=1)\n",
    "features=np.array(features)\n",
    "# 计算每个特征的Z-score\n",
    "z_scores = np.abs(stats.zscore(features))\n",
    "# 设置离群值的阈值\n",
    "threshold = 30\n",
    "# 检测离群值\n",
    "outliers = np.where(z_scores > threshold)\n",
    "# 去除离群值所在的行\n",
    "data = data.drop(outliers[0], axis=0)\n",
    "\n",
    "# # 连续变量离散化\n",
    "# list = ['V1', 'V2', 'V3', 'V4', 'V5', 'V6', 'V7', 'V8', 'V9', 'V10', 'V11', 'V12', 'V13',\n",
    "#         'V14', 'V15', 'V16', 'V17', 'V18', 'V19', 'V20', 'V21', 'V22', 'V23', 'V24', 'V25',\n",
    "#     'V26', 'V27', 'V28', 'NormalAmount']\n",
    "# for column in list:\n",
    "#     df = [[x] for x in data[column]]\n",
    "#     kmeans = KMeans(n_clusters=6, random_state=0).fit(df)\n",
    "#     data[column] = kmeans.labels_\n",
    "\n",
    "# 标准化Amount属性，使量级相同\n",
    "data['NormalAmount']=StandardScaler().fit_transform(np.array(data.Amount).reshape(-1,1))\n",
    "print(data.describe().iloc[:,-8:])\n",
    "特征列和目标列\n",
    "feature_cols = ['V1', 'V2', 'V3', 'V4', 'V5', 'V6', 'V7', 'V8', 'V9', 'V10', 'V11',\n",
    "            'V12', 'V13',\n",
    "            'V14', 'V15', 'V16', 'V17', 'V18', 'V19', 'V20', 'V21', 'V22', 'V23', 'V24', 'V25',\n",
    "            'V26', 'V27', 'V28', 'NormalAmount']\n",
    "features = data[feature_cols]\n",
    "target = data['Class']\n",
    "print(\"Processing Data finished\")\n",
    "print(\"Processing Data time: \",time.time()-start_time)"
   ]
  },
  {
   "cell_type": "markdown",
   "id": "c90b32a5-7aae-49d7-a08e-bb0b256e3253",
   "metadata": {},
   "source": [
    "划分训练集和测试集"
   ]
  },
  {
   "cell_type": "code",
   "execution_count": null,
   "id": "f33e1c86-fa6b-4f2f-a56e-5a2f0a596ea9",
   "metadata": {},
   "outputs": [],
   "source": [
    "X_train, X_test, y_train, y_test = train_test_split(features, target, test_size=0.2, random_state=42)"
   ]
  },
  {
   "cell_type": "markdown",
   "id": "812977b4-c4db-42fc-b303-b1942c693715",
   "metadata": {},
   "source": [
    "训练集中处理不平衡问题"
   ]
  },
  {
   "cell_type": "code",
   "execution_count": null,
   "id": "43821320-f6ce-4988-b4e5-1ec57ad06279",
   "metadata": {},
   "outputs": [],
   "source": [
    "sm=SMOTE(sampling_strategy=1/200,random_state=42)\n",
    "print('Original dataset shape %s' % Counter(y_train))\n",
    "X_res, y_res = sm.fit_resample(X_train, y_train)\n",
    "print('Resampled dataset shape %s' % Counter(y_res))\n",
    "X_train = pd.DataFrame(X_res, columns=X_train.columns)\n",
    "y_train = pd.Series(y_res, name='Class')"
   ]
  },
  {
   "cell_type": "markdown",
   "id": "00701152-aee8-4ae0-895a-a066dabde916",
   "metadata": {},
   "source": [
    "定义F1作为评价指标"
   ]
  },
  {
   "cell_type": "code",
   "execution_count": null,
   "id": "41e844af-690e-422d-a6e6-d06d5d3f6ae0",
   "metadata": {},
   "outputs": [],
   "source": [
    "f1_scorer = make_scorer(f1_score)"
   ]
  },
  {
   "cell_type": "markdown",
   "id": "bac96920-4753-42a1-921a-96bbb8dc6bbe",
   "metadata": {},
   "source": [
    "随机森林模型"
   ]
  },
  {
   "cell_type": "code",
   "execution_count": null,
   "id": "fd10ea51-3b69-40e3-8e96-c1bc4ea7ba16",
   "metadata": {},
   "outputs": [],
   "source": [
    "rf_model = RandomForestClassifier(random_state=42)"
   ]
  },
  {
   "cell_type": "markdown",
   "id": "4a8d9fb1-80f1-4083-9bcc-c6c46ede82c5",
   "metadata": {},
   "source": [
    "定义参数网格"
   ]
  },
  {
   "cell_type": "code",
   "execution_count": null,
   "id": "f06e289c-1020-4878-88d8-d80138adb643",
   "metadata": {},
   "outputs": [],
   "source": [
    "param_grid_rf = {\n",
    "    'n_estimators': [50, 100, 200],\n",
    "    'max_depth': [None, 10, 20],\n",
    "    'min_samples_split': [2, 5, 10],\n",
    "    'min_samples_leaf': [1, 2, 4]\n",
    "}"
   ]
  },
  {
   "cell_type": "markdown",
   "id": "10b65225-6184-4e29-88a4-b1b97a12e591",
   "metadata": {},
   "source": [
    "训练随机森林模型（若存在则直接读取）"
   ]
  },
  {
   "cell_type": "code",
   "execution_count": null,
   "id": "41347dee-b725-4696-9995-6d27e80cb34c",
   "metadata": {},
   "outputs": [],
   "source": [
    "start_time = time.time()\n",
    "model_file = 'random_forest_model_full_intel.pkl'\n",
    "if os.path.exists(model_file):\n",
    "    with open(model_file, 'rb') as file:\n",
    "        best_rf_model = pickle.load(file)\n",
    "else:\n",
    "    # 使用StratifiedKFold进行分层交叉验证\n",
    "    cv_rf = StratifiedKFold(n_splits=5, shuffle=True, random_state=42)\n",
    "    # 使用GridSearchCV进行参数搜索和交叉验证\n",
    "    grid_search_rf = GridSearchCV(rf_model, param_grid_rf, scoring=f1_scorer, cv=cv_rf)\n",
    "    grid_search_rf.fit(X_train, y_train)\n",
    "    # 获取最佳参数的模型\n",
    "    best_rf_model = grid_search_rf.best_estimator_    \n",
    "    with open('random_forest_model_full_intel.pkl', 'wb') as file:\n",
    "        pickle.dump(best_rf_model, file)\n",
    "training_time_rf = time.time() - start_time"
   ]
  },
  {
   "cell_type": "markdown",
   "id": "f3a10bd8-a101-423b-a5ab-b8e551448b55",
   "metadata": {},
   "source": [
    "在测试集上预测"
   ]
  },
  {
   "cell_type": "code",
   "execution_count": null,
   "id": "038afe21-a468-4801-a5eb-33e8ef761c3f",
   "metadata": {},
   "outputs": [],
   "source": [
    "start_time = time.time()\n",
    "y_pred_rf = best_rf_model.predict(X_test)\n",
    "predicting_time_rf = time.time() - start_time"
   ]
  },
  {
   "cell_type": "markdown",
   "id": "ea13d0bf-6ea8-4f8f-8d82-ce81985ae9b9",
   "metadata": {},
   "source": [
    "计算F1分数和准确度"
   ]
  },
  {
   "cell_type": "code",
   "execution_count": null,
   "id": "0fe84a1e-6b2c-423c-aaf2-276e7fcb30ce",
   "metadata": {},
   "outputs": [],
   "source": [
    "f1_rf = f1_score(y_test, y_pred_rf)\n",
    "accuracy_rf = accuracy_score(y_test, y_pred_rf)"
   ]
  },
  {
   "cell_type": "markdown",
   "id": "09a2d4b8-8528-4cd1-9906-5ef28009c673",
   "metadata": {},
   "source": [
    "输出结果"
   ]
  },
  {
   "cell_type": "code",
   "execution_count": null,
   "id": "24d1a975-e64e-4991-aa9c-ce7239efc77a",
   "metadata": {},
   "outputs": [],
   "source": [
    "print(\"Random Forest:\")\n",
    "print(\"F1 Score: {:.4f}\".format(f1_rf))\n",
    "print(\"Accuracy: {:.4f}\".format(accuracy_rf))\n",
    "print(\"Training Time: {:.4f} seconds\".format(training_time_rf))\n",
    "print(\"Predicting Time: {:.4f} seconds\".format(predicting_time_rf))"
   ]
  },
  {
   "cell_type": "markdown",
   "id": "7c830239-971e-4209-8c29-64d5de647c08",
   "metadata": {},
   "source": [
    "计算AUPRC"
   ]
  },
  {
   "cell_type": "code",
   "execution_count": null,
   "id": "00c44728-43d2-41c8-bda5-1a03fc13e696",
   "metadata": {},
   "outputs": [],
   "source": [
    "precision_rf, recall_rf, _ = precision_recall_curve(y_test, y_pred_rf)\n",
    "auprc_rf = auc(recall_rf, precision_rf)\n",
    "plt.figure(figsize=(8, 8))\n",
    "plt.plot(recall_rf, precision_rf, label=f'Random Forest (AUPRC = {auprc_rf:.2f})', color='blue')\n",
    "plt.xlabel('Recall')\n",
    "plt.ylabel('Precision')\n",
    "plt.title('Precision-Recall Curve')\n",
    "plt.legend(loc='best')\n",
    "plt.show()"
   ]
  },
  {
   "cell_type": "markdown",
   "id": "f93efdff-9f44-45e9-9339-2aa3a9bbc207",
   "metadata": {},
   "source": [
    "## 使用XGBoost"
   ]
  },
  {
   "cell_type": "code",
   "execution_count": null,
   "id": "3af2df50-6360-4d07-9cd7-4db87ba728aa",
   "metadata": {},
   "outputs": [],
   "source": [
    "xgb_model = XGBClassifier(random_state=42)"
   ]
  },
  {
   "cell_type": "code",
   "execution_count": null,
   "id": "6f035593-9a1f-4cd1-a9fa-5727adceb859",
   "metadata": {},
   "outputs": [],
   "source": [
    "定义网格参数"
   ]
  },
  {
   "cell_type": "code",
   "execution_count": null,
   "id": "8b356580-b423-4bce-8909-d5881f29d589",
   "metadata": {},
   "outputs": [],
   "source": [
    "param_grid_xgb = {\n",
    "    'n_estimators': [50, 100, 200],\n",
    "    'max_depth': [3, 5, 7],\n",
    "    'learning_rate': [0.01, 0.1, 0.2],\n",
    "    'subsample': [0.8, 0.9, 1.0],\n",
    "    'min_child_weight': [1, 3, 5]\n",
    "}"
   ]
  },
  {
   "cell_type": "markdown",
   "id": "8ee908e5-c783-40f0-b8c9-b5b117aea193",
   "metadata": {},
   "source": [
    "训练xgboost模型（若存在则直接读取）"
   ]
  },
  {
   "cell_type": "code",
   "execution_count": null,
   "id": "f0f667d6-8504-4c6e-9dcc-03a66a871196",
   "metadata": {},
   "outputs": [],
   "source": [
    "start_time = time.time()\n",
    "model_file = 'xgboost_model_full_intel.pkl'\n",
    "if os.path.exists(model_file):\n",
    "    with open(model_file, 'rb') as file:\n",
    "        best_xgb_model = pickle.load(file)\n",
    "else:\n",
    "    # 使用StratifiedKFold进行分层交叉验证\n",
    "    cv_xgb = StratifiedKFold(n_splits=5, shuffle=True, random_state=42)\n",
    "    # 使用GridSearchCV进行参数搜索和交叉验证\n",
    "    grid_search_xgb = GridSearchCV(xgb_model, param_grid_xgb, scoring=f1_scorer, cv=cv_xgb)\n",
    "    grid_search_xgb.fit(X_train, y_train)\n",
    "    # 获取最佳参数的模型\n",
    "    best_xgb_model = grid_search_xgb.best_estimator_    \n",
    "    with open('xgboost_model_full_intel.pkl', 'wb') as file:\n",
    "        pickle.dump(best_xgb_model, file)\n",
    "training_time_xgb = time.time() - start_time"
   ]
  },
  {
   "cell_type": "markdown",
   "id": "ceaebeba-5af1-4d11-8d2b-39a929c17669",
   "metadata": {},
   "source": [
    "在预测集上预测"
   ]
  },
  {
   "cell_type": "code",
   "execution_count": null,
   "id": "63d165d7-a884-47eb-8b66-3f746b13ccda",
   "metadata": {},
   "outputs": [],
   "source": [
    "start_time = time.time()\n",
    "y_pred_xgb = best_xgb_model.predict(X_test)\n",
    "predicting_time_xgb = time.time() - start_time"
   ]
  },
  {
   "cell_type": "markdown",
   "id": "49167946-5e0f-4ccc-a387-230c4463fc0e",
   "metadata": {},
   "source": [
    "计算F1分数和准确度"
   ]
  },
  {
   "cell_type": "code",
   "execution_count": null,
   "id": "f89d085c-653a-4c14-a5da-fbbe409f208a",
   "metadata": {},
   "outputs": [],
   "source": [
    "f1_xgb = f1_score(y_test, y_pred_xgb)\n",
    "accuracy_xgb = accuracy_score(y_test, y_pred_xgb)"
   ]
  },
  {
   "cell_type": "markdown",
   "id": "800e1dd0-c1c8-434a-8a4d-7f571a1dbb00",
   "metadata": {},
   "source": [
    "结果"
   ]
  },
  {
   "cell_type": "code",
   "execution_count": null,
   "id": "7389acd5-2558-4551-8e9f-6d4cc67f78bb",
   "metadata": {},
   "outputs": [],
   "source": [
    "print(\"\\nXGBoost:\")\n",
    "print(\"F1 Score: {:.4f}\".format(f1_xgb))\n",
    "print(\"Accuracy: {:.4f}\".format(accuracy_xgb))\n",
    "print(\"Training Time: {:.4f} seconds\".format(training_time_xgb))\n",
    "print(\"Predicting Time: {:.4f} seconds\".format(predicting_time_xgb))"
   ]
  },
  {
   "cell_type": "markdown",
   "id": "a5db5f9a-487d-45ee-8993-6afb1b3f0ba7",
   "metadata": {},
   "source": [
    "计算AUPRC"
   ]
  },
  {
   "cell_type": "code",
   "execution_count": null,
   "id": "158dee23-a090-4140-a62d-0b47734d5232",
   "metadata": {},
   "outputs": [],
   "source": [
    "precision_xgb, recall_xgb, _ = precision_recall_curve(y_test, y_pred_xgb)\n",
    "auprc_xgb = auc(recall_xgb, precision_xgb)\n",
    "plt.figure(figsize=(8, 8))\n",
    "plt.plot(recall_xgb, precision_xgb, label=f'XGBoost (AUPRC = {auprc_xgb:.2f})', color='green')\n",
    "plt.xlabel('Recall')\n",
    "plt.ylabel('Precision')\n",
    "plt.title('Precision-Recall Curve')\n",
    "plt.legend(loc='best')\n",
    "plt.show()"
   ]
  },
  {
   "cell_type": "code",
   "execution_count": null,
   "id": "5dfad710-ff73-49aa-abea-3afe6390ffea",
   "metadata": {},
   "outputs": [],
   "source": []
  }
 ],
 "metadata": {
  "kernelspec": {
   "display_name": "modin-hdk",
   "language": "python",
   "name": "modin-hdk"
  },
  "language_info": {
   "codemirror_mode": {
    "name": "ipython",
    "version": 3
   },
   "file_extension": ".py",
   "mimetype": "text/x-python",
   "name": "python",
   "nbconvert_exporter": "python",
   "pygments_lexer": "ipython3",
   "version": "3.10.12"
  }
 },
 "nbformat": 4,
 "nbformat_minor": 5
}
