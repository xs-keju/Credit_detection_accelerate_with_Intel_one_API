{
 "cells": [
  {
   "cell_type": "markdown",
   "id": "583c0af8-49cd-4210-becf-c36032610c28",
   "metadata": {
    "tags": []
   },
   "source": [
    "# 银行欺诈交易的检测\n",
    "* 使用了参数格搜索和交叉检测\n",
    "* 分别训练随机森林模型和Xgboost模型，获取F1和time指标"
   ]
  },
  {
   "cell_type": "code",
   "execution_count": 1,
   "id": "79537adf-444a-4cbb-88d5-9c877bee0e52",
   "metadata": {
    "ExecuteTime": {
     "end_time": "2023-11-15T10:00:14.390212100Z",
     "start_time": "2023-11-15T10:00:13.923486400Z"
    }
   },
   "outputs": [],
   "source": [
    "import os\n",
    "import pickle\n",
    "import pandas as pd\n",
    "from collections import Counter\n",
    "from imblearn.over_sampling import SMOTE\n",
    "from sklearn.cluster import KMeans\n",
    "from sklearn.preprocessing import StandardScaler\n",
    "from sklearn.model_selection import train_test_split, GridSearchCV, StratifiedKFold\n",
    "from sklearn.ensemble import RandomForestClassifier\n",
    "from xgboost import XGBClassifier\n",
    "from sklearn.metrics import make_scorer, f1_score, precision_recall_curve, auc,accuracy_score\n",
    "import time\n",
    "import matplotlib.pyplot as plt\n",
    "import seaborn as sns\n",
    "import numpy as np\n",
    "from scipy import stats"
   ]
  },
  {
   "cell_type": "markdown",
   "id": "69fdfcb0",
   "metadata": {},
   "source": [
    "读取数据"
   ]
  },
  {
   "cell_type": "code",
   "execution_count": 2,
   "id": "8455776d-6522-4382-8361-69708da282f4",
   "metadata": {
    "ExecuteTime": {
     "end_time": "2023-11-15T10:00:15.755253100Z",
     "start_time": "2023-11-15T10:00:14.392808800Z"
    }
   },
   "outputs": [
    {
     "name": "stdout",
     "output_type": "stream",
     "text": [
      "Reading Data...\n",
      "Reading finished\n",
      "read time:  1.3411431312561035\n"
     ]
    }
   ],
   "source": [
    "start_time=time.time()\n",
    "print(\"Reading Data...\")\n",
    "data = pd.read_csv(\"./creditcard.csv\")\n",
    "print(\"Reading finished\")\n",
    "print(\"read time: \",time.time()-start_time)"
   ]
  },
  {
   "cell_type": "markdown",
   "id": "5403a25c",
   "metadata": {},
   "source": [
    "数据预处理"
   ]
  },
  {
   "cell_type": "code",
   "execution_count": 3,
   "id": "efa7922d",
   "metadata": {
    "ExecuteTime": {
     "end_time": "2023-11-15T10:00:15.836716800Z",
     "start_time": "2023-11-15T10:00:15.753619400Z"
    }
   },
   "outputs": [
    {
     "name": "stdout",
     "output_type": "stream",
     "text": [
      "Processing Data...\n",
      "Time      0\n",
      "V1        0\n",
      "V2        0\n",
      "V3        0\n",
      "V4        0\n",
      "V5        0\n",
      "V6        0\n",
      "V7        0\n",
      "V8        0\n",
      "V9        0\n",
      "V10       0\n",
      "V11       0\n",
      "V12       0\n",
      "V13       0\n",
      "V14       0\n",
      "V15       0\n",
      "V16       0\n",
      "V17       0\n",
      "V18       0\n",
      "V19       0\n",
      "V20       0\n",
      "V21       0\n",
      "V22       0\n",
      "V23       0\n",
      "V24       0\n",
      "V25       0\n",
      "V26       0\n",
      "V27       0\n",
      "V28       0\n",
      "Amount    0\n",
      "Class     0\n",
      "dtype: int64\n"
     ]
    }
   ],
   "source": [
    "start_time=time.time()\n",
    "print(\"Processing Data...\")\n",
    "print(data.isnull().sum()) # 缺失值检查\n",
    "data = data.dropna()  # 直接丢失含有缺失值的行记录"
   ]
  },
  {
   "cell_type": "code",
   "execution_count": 4,
   "id": "bd617b63",
   "metadata": {
    "ExecuteTime": {
     "end_time": "2023-11-15T10:00:15.897591400Z",
     "start_time": "2023-11-15T10:00:15.837714800Z"
    }
   },
   "outputs": [
    {
     "name": "stdout",
     "output_type": "stream",
     "text": [
      "<class 'pandas.core.frame.DataFrame'>\n",
      "RangeIndex: 284807 entries, 0 to 284806\n",
      "Data columns (total 31 columns):\n",
      " #   Column  Non-Null Count   Dtype  \n",
      "---  ------  --------------   -----  \n",
      " 0   Time    284807 non-null  float64\n",
      " 1   V1      284807 non-null  float64\n",
      " 2   V2      284807 non-null  float64\n",
      " 3   V3      284807 non-null  float64\n",
      " 4   V4      284807 non-null  float64\n",
      " 5   V5      284807 non-null  float64\n",
      " 6   V6      284807 non-null  float64\n",
      " 7   V7      284807 non-null  float64\n",
      " 8   V8      284807 non-null  float64\n",
      " 9   V9      284807 non-null  float64\n",
      " 10  V10     284807 non-null  float64\n",
      " 11  V11     284807 non-null  float64\n",
      " 12  V12     284807 non-null  float64\n",
      " 13  V13     284807 non-null  float64\n",
      " 14  V14     284807 non-null  float64\n",
      " 15  V15     284807 non-null  float64\n",
      " 16  V16     284807 non-null  float64\n",
      " 17  V17     284807 non-null  float64\n",
      " 18  V18     284807 non-null  float64\n",
      " 19  V19     284807 non-null  float64\n",
      " 20  V20     284807 non-null  float64\n",
      " 21  V21     284807 non-null  float64\n",
      " 22  V22     284807 non-null  float64\n",
      " 23  V23     284807 non-null  float64\n",
      " 24  V24     284807 non-null  float64\n",
      " 25  V25     284807 non-null  float64\n",
      " 26  V26     284807 non-null  float64\n",
      " 27  V27     284807 non-null  float64\n",
      " 28  V28     284807 non-null  float64\n",
      " 29  Amount  284807 non-null  float64\n",
      " 30  Class   284807 non-null  int64  \n",
      "dtypes: float64(30), int64(1)\n",
      "memory usage: 67.4 MB\n",
      "[0 1]\n"
     ]
    }
   ],
   "source": [
    "data.info()   # 异常值检查\n",
    "print(data.Class.unique())  # Class列取值检查\n",
    "\n",
    "# df[\"days\"], df[\"hours\"], df[\"minutes\"], df[\"seconds\"] = zip(*df[\"Time\"].map(convert_seconds))   # 拆分Time特征\n",
    "# plt.figure(figsize=(15,15))\n",
    "# for i in range(0,data.shape[1]-1):\n",
    "#     plt.subplot(6,5,i+1)\n",
    "#     sns.distplot(data.iloc[:,i],kde=True)\n",
    "# plt.show()"
   ]
  },
  {
   "cell_type": "code",
   "execution_count": 5,
   "id": "9b5714e1",
   "metadata": {
    "ExecuteTime": {
     "end_time": "2023-11-15T10:00:16.457938500Z",
     "start_time": "2023-11-15T10:00:15.885651900Z"
    }
   },
   "outputs": [
    {
     "name": "stdout",
     "output_type": "stream",
     "text": [
      "                 V24            V25            V26            V27  \\\n",
      "count  284720.000000  284720.000000  284720.000000  284720.000000   \n",
      "mean       -0.000146       0.000250       0.000019       0.000092   \n",
      "std         0.605382       0.517320       0.482014       0.387883   \n",
      "min        -2.836627      -4.541819      -1.855355      -9.390980   \n",
      "25%        -0.354583      -0.317062      -0.326967      -0.070815   \n",
      "50%         0.040920       0.016596      -0.052134       0.001344   \n",
      "75%         0.439406       0.350682       0.240945       0.091015   \n",
      "max         4.022866       5.541598       3.517346      10.507884   \n",
      "\n",
      "                 V28         Amount          Class  NormalAmount  \n",
      "count  284720.000000  284720.000000  284720.000000  2.847200e+05  \n",
      "mean       -0.001161      87.410228       0.001696  6.348766e-17  \n",
      "std         0.288408     228.733735       0.041153  1.000002e+00  \n",
      "min        -8.656570       0.000000       0.000000 -3.821491e-01  \n",
      "25%        -0.052957       5.590000       0.000000 -3.577101e-01  \n",
      "50%         0.011232      22.000000       0.000000 -2.859672e-01  \n",
      "75%         0.078227      77.050000       0.000000 -4.529391e-02  \n",
      "max         9.876371    7583.320000       1.000000  3.277139e+01  \n"
     ]
    }
   ],
   "source": [
    "# 提取特征数据，去除不需要的列\n",
    "features = data.drop([\"Time\",\"Class\"], axis=1)\n",
    "features=np.array(features)\n",
    "# 计算每个特征的Z-score\n",
    "z_scores = np.abs(stats.zscore(features))\n",
    "# 设置离群值的阈值\n",
    "threshold = 30\n",
    "# 检测离群值\n",
    "outliers = np.where(z_scores > threshold)\n",
    "# 去除离群值所在的行\n",
    "data = data.drop(outliers[0], axis=0)\n",
    "\n",
    "# # 连续变量离散化\n",
    "# list = ['V1', 'V2', 'V3', 'V4', 'V5', 'V6', 'V7', 'V8', 'V9', 'V10', 'V11', 'V12', 'V13',\n",
    "#         'V14', 'V15', 'V16', 'V17', 'V18', 'V19', 'V20', 'V21', 'V22', 'V23', 'V24', 'V25',\n",
    "#     'V26', 'V27', 'V28', 'NormalAmount']\n",
    "# for column in list:\n",
    "#     df = [[x] for x in data[column]]\n",
    "#     kmeans = KMeans(n_clusters=6, random_state=0).fit(df)\n",
    "#     data[column] = kmeans.labels_\n",
    "\n",
    "# 标准化Amount属性，使量级相同\n",
    "data['NormalAmount']=StandardScaler().fit_transform(np.array(data.Amount).reshape(-1,1))\n",
    "print(data.describe().iloc[:,-8:])"
   ]
  },
  {
   "cell_type": "markdown",
   "id": "ed45c8e0-3a7e-4fd1-917b-08e034b3dd32",
   "metadata": {},
   "source": [
    "特征列和目标列"
   ]
  },
  {
   "cell_type": "code",
   "execution_count": 6,
   "id": "bab5aab4-444f-478b-8233-18c0a10f165f",
   "metadata": {
    "ExecuteTime": {
     "end_time": "2023-11-15T10:00:16.546087100Z",
     "start_time": "2023-11-15T10:00:16.456864900Z"
    }
   },
   "outputs": [
    {
     "name": "stdout",
     "output_type": "stream",
     "text": [
      "Processing Data finished\n",
      "Processing Data time:  0.7808763980865479\n"
     ]
    }
   ],
   "source": [
    "feature_cols = ['V1', 'V2', 'V3', 'V4', 'V5', 'V6', 'V7', 'V8', 'V9', 'V10', 'V11',\n",
    "            'V12', 'V13',\n",
    "            'V14', 'V15', 'V16', 'V17', 'V18', 'V19', 'V20', 'V21', 'V22', 'V23', 'V24', 'V25',\n",
    "            'V26', 'V27', 'V28', 'NormalAmount']\n",
    "features = data[feature_cols]\n",
    "target = data['Class']\n",
    "print(\"Processing Data finished\")\n",
    "print(\"Processing Data time: \",time.time()-start_time)"
   ]
  },
  {
   "cell_type": "markdown",
   "id": "31250648-535d-4eca-8efe-753ee29ad56a",
   "metadata": {},
   "source": [
    "划分训练集和测试集"
   ]
  },
  {
   "cell_type": "code",
   "execution_count": 7,
   "id": "efd6db39-70dc-44c0-9100-76160b07129a",
   "metadata": {
    "ExecuteTime": {
     "end_time": "2023-11-15T10:00:16.648893900Z",
     "start_time": "2023-11-15T10:00:16.543087500Z"
    }
   },
   "outputs": [],
   "source": [
    "X_train, X_test, y_train, y_test = train_test_split(features, target, test_size=0.2, random_state=42)"
   ]
  },
  {
   "cell_type": "markdown",
   "id": "6db6540f",
   "metadata": {},
   "source": [
    "训练集中处理不平衡问题"
   ]
  },
  {
   "cell_type": "code",
   "execution_count": 8,
   "id": "bb43c20d",
   "metadata": {
    "ExecuteTime": {
     "end_time": "2023-11-15T10:00:16.996623800Z",
     "start_time": "2023-11-15T10:00:16.651894600Z"
    }
   },
   "outputs": [
    {
     "name": "stdout",
     "output_type": "stream",
     "text": [
      "Original dataset shape Counter({0: 227384, 1: 392})\n",
      "Resampled dataset shape Counter({0: 227384, 1: 1136})\n"
     ]
    }
   ],
   "source": [
    "sm=SMOTE(sampling_strategy=1/200,random_state=42)\n",
    "print('Original dataset shape %s' % Counter(y_train))\n",
    "X_res, y_res = sm.fit_resample(X_train, y_train)\n",
    "print('Resampled dataset shape %s' % Counter(y_res))\n",
    "X_train = pd.DataFrame(X_res, columns=X_train.columns)\n",
    "y_train = pd.Series(y_res, name='Class')"
   ]
  },
  {
   "cell_type": "markdown",
   "id": "79fbf55e-19f6-4edd-b9d5-6a034a52b1f8",
   "metadata": {},
   "source": [
    "定义F1作为评价指标"
   ]
  },
  {
   "cell_type": "code",
   "execution_count": 9,
   "id": "acfaf0bf-a46a-4b1c-87ea-0a5db9773eb7",
   "metadata": {
    "ExecuteTime": {
     "end_time": "2023-11-15T10:00:17.005975300Z",
     "start_time": "2023-11-15T10:00:16.996623800Z"
    }
   },
   "outputs": [],
   "source": [
    "f1_scorer = make_scorer(f1_score)"
   ]
  },
  {
   "cell_type": "markdown",
   "id": "cbd33180-b45e-422d-ae82-a798840beb6b",
   "metadata": {},
   "source": [
    "随机森林模型"
   ]
  },
  {
   "cell_type": "code",
   "execution_count": 10,
   "id": "c96040f3-4408-4278-94a2-5cf5a195ba15",
   "metadata": {
    "ExecuteTime": {
     "end_time": "2023-11-15T10:00:17.034553200Z",
     "start_time": "2023-11-15T10:00:17.006481200Z"
    }
   },
   "outputs": [],
   "source": [
    "rf_model = RandomForestClassifier(random_state=42)"
   ]
  },
  {
   "cell_type": "markdown",
   "id": "546f47b9-52eb-47e6-a1ec-46874c07d88d",
   "metadata": {},
   "source": [
    "定义参数网格"
   ]
  },
  {
   "cell_type": "code",
   "execution_count": 11,
   "id": "00457b43-1361-438b-bf06-26111138b99d",
   "metadata": {
    "ExecuteTime": {
     "end_time": "2023-11-15T10:00:17.035553100Z",
     "start_time": "2023-11-15T10:00:17.016804700Z"
    }
   },
   "outputs": [],
   "source": [
    "param_grid_rf = {\n",
    "    'n_estimators': [50, 100, 200],\n",
    "    'max_depth': [None, 10, 20],\n",
    "    'min_samples_split': [2, 5, 10],\n",
    "    'min_samples_leaf': [1, 2, 4]\n",
    "}"
   ]
  },
  {
   "cell_type": "markdown",
   "id": "5c352847-d2cc-46d0-8aba-444252823bce",
   "metadata": {},
   "source": [
    "训练随机森林模型（若存在则直接读取）"
   ]
  },
  {
   "cell_type": "code",
   "execution_count": null,
   "id": "d52853c9-c0c3-4d43-b8ff-9532b15f26cd",
   "metadata": {
    "tags": [],
    "is_executing": true,
    "ExecuteTime": {
     "start_time": "2023-11-15T10:00:17.028088300Z"
    }
   },
   "outputs": [],
   "source": [
    "start_time = time.time()\n",
    "model_file = 'random_forest_model_full_stock.pkl'\n",
    "if os.path.exists(model_file):\n",
    "    with open(model_file, 'rb') as file:\n",
    "        best_rf_model = pickle.load(file)\n",
    "else:\n",
    "    # 使用StratifiedKFold进行分层交叉验证\n",
    "    cv_rf = StratifiedKFold(n_splits=5, shuffle=True, random_state=42)\n",
    "    # 使用GridSearchCV进行参数搜索和交叉验证\n",
    "    grid_search_rf = GridSearchCV(rf_model, param_grid_rf, scoring=f1_scorer, cv=cv_rf)\n",
    "    grid_search_rf.fit(X_train, y_train)\n",
    "    # 获取最佳参数的模型\n",
    "    best_rf_model = grid_search_rf.best_estimator_    \n",
    "    with open('random_forest_model_full_stock.pkl', 'wb') as file:\n",
    "        pickle.dump(best_rf_model, file)\n",
    "training_time_rf = time.time() - start_time"
   ]
  },
  {
   "cell_type": "markdown",
   "id": "37b5cb8e-e7bc-45f9-8c57-551acf391b2d",
   "metadata": {},
   "source": [
    "在测试集上预测"
   ]
  },
  {
   "cell_type": "code",
   "execution_count": null,
   "id": "89a1726e-1906-4e2d-8a01-5b50adb0271e",
   "metadata": {
    "is_executing": true
   },
   "outputs": [],
   "source": [
    "start_time = time.time()\n",
    "y_pred_rf = best_rf_model.predict(X_test)\n",
    "predicting_time_rf = time.time() - start_time"
   ]
  },
  {
   "cell_type": "markdown",
   "id": "81d8d50e-c215-450e-8aa3-5501eb796f9e",
   "metadata": {},
   "source": [
    "计算F1分数和准确度"
   ]
  },
  {
   "cell_type": "code",
   "execution_count": null,
   "id": "45bf5f22-2dbc-4349-98bc-bc10e1dad3d2",
   "metadata": {
    "is_executing": true
   },
   "outputs": [],
   "source": [
    "f1_rf = f1_score(y_test, y_pred_rf)\n",
    "accuracy_rf = accuracy_score(y_test, y_pred_rf)"
   ]
  },
  {
   "cell_type": "markdown",
   "id": "4a95c060-247f-4e8a-94ee-1c68492a79e0",
   "metadata": {},
   "source": [
    "输出结果"
   ]
  },
  {
   "cell_type": "code",
   "execution_count": null,
   "id": "bf99d6cc-7b2d-4244-afc7-804b64d3eef9",
   "metadata": {
    "is_executing": true
   },
   "outputs": [],
   "source": [
    "print(\"Random Forest:\")\n",
    "print(\"F1 Score: {:.4f}\".format(f1_rf))\n",
    "print(\"Accuracy: {:.4f}\".format(accuracy_rf))\n",
    "print(\"Training Time: {:.4f} seconds\".format(training_time_rf))\n",
    "print(\"Predicting Time: {:.4f} seconds\".format(predicting_time_rf))"
   ]
  },
  {
   "cell_type": "markdown",
   "id": "22f53968-9cc9-4be0-8662-61bfd2a2d6da",
   "metadata": {},
   "source": [
    "计算AURPC"
   ]
  },
  {
   "cell_type": "code",
   "execution_count": null,
   "id": "60477610-13df-4ad7-a2c0-ef2f6e084de8",
   "metadata": {
    "is_executing": true
   },
   "outputs": [],
   "source": [
    "precision_rf, recall_rf, _ = precision_recall_curve(y_test, y_pred_rf)\n",
    "auprc_rf = auc(recall_rf, precision_rf)\n",
    "plt.figure(figsize=(8, 8))\n",
    "plt.plot(recall_rf, precision_rf, label=f'Random Forest (AUPRC = {auprc_rf:.2f})', color='blue')\n",
    "plt.xlabel('Recall')\n",
    "plt.ylabel('Precision')\n",
    "plt.title('Precision-Recall Curve')\n",
    "plt.legend(loc='best')\n",
    "plt.show()"
   ]
  },
  {
   "cell_type": "markdown",
   "id": "8cd8a27c-4eae-4f10-bb90-2aeed08c977e",
   "metadata": {},
   "source": [
    "## 使用XGBoost"
   ]
  },
  {
   "cell_type": "code",
   "execution_count": null,
   "id": "871f61e7-2c83-4b32-ac01-abfd83b8e90e",
   "metadata": {
    "is_executing": true
   },
   "outputs": [],
   "source": [
    "xgb_model = XGBClassifier(random_state=42)"
   ]
  },
  {
   "cell_type": "markdown",
   "id": "05fc4372-242b-46e8-90ec-38e6da87cde4",
   "metadata": {},
   "source": [
    "定义网格参数"
   ]
  },
  {
   "cell_type": "code",
   "execution_count": null,
   "id": "6ea7a719-cd3a-4f99-8214-ab21a2ef75ab",
   "metadata": {
    "is_executing": true
   },
   "outputs": [],
   "source": [
    "param_grid_xgb = {\n",
    "    'n_estimators': [50, 100, 200],\n",
    "    'max_depth': [3, 5, 7],\n",
    "    'learning_rate': [0.01, 0.1, 0.2],\n",
    "    'subsample': [0.8, 0.9, 1.0],\n",
    "    'min_child_weight': [1, 3, 5]\n",
    "}"
   ]
  },
  {
   "cell_type": "markdown",
   "id": "47ef4e9e-38df-4721-8a4b-8fcbbf758ed3",
   "metadata": {},
   "source": [
    "训练xgboost模型（若存在则直接读取）"
   ]
  },
  {
   "cell_type": "code",
   "execution_count": null,
   "id": "55fb1aea-cf80-4e66-adff-0dc8342b16e4",
   "metadata": {
    "is_executing": true
   },
   "outputs": [],
   "source": [
    "start_time = time.time()\n",
    "model_file = 'xgboost_model_full_stock.pkl'\n",
    "if os.path.exists(model_file):\n",
    "    with open(model_file, 'rb') as file:\n",
    "        best_xgb_model = pickle.load(file)\n",
    "else:\n",
    "    # 使用StratifiedKFold进行分层交叉验证\n",
    "    cv_xgb = StratifiedKFold(n_splits=5, shuffle=True, random_state=42)\n",
    "    # 使用GridSearchCV进行参数搜索和交叉验证\n",
    "    grid_search_xgb = GridSearchCV(xgb_model, param_grid_xgb, scoring=f1_scorer, cv=cv_xgb)\n",
    "    grid_search_xgb.fit(X_train, y_train)\n",
    "    # 获取最佳参数的模型\n",
    "    best_xgb_model = grid_search_xgb.best_estimator_    \n",
    "    with open('xgboost_model_full_stock.pkl', 'wb') as file:\n",
    "        pickle.dump(best_xgb_model, file)\n",
    "training_time_xgb = time.time() - start_time"
   ]
  },
  {
   "cell_type": "markdown",
   "id": "69b713b0-48b7-41d2-abcb-0ed3bba5ce1d",
   "metadata": {},
   "source": [
    "在预测集上预测"
   ]
  },
  {
   "cell_type": "code",
   "execution_count": null,
   "id": "35098246-849e-4cc7-a50f-636a4ad2b5d2",
   "metadata": {
    "is_executing": true
   },
   "outputs": [],
   "source": [
    "start_time = time.time()\n",
    "y_pred_xgb = best_xgb_model.predict(X_test)\n",
    "predicting_time_xgb = time.time() - start_time"
   ]
  },
  {
   "cell_type": "markdown",
   "id": "0fa5e875-45dc-4837-8b7e-ab6ca3cf86be",
   "metadata": {},
   "source": [
    "计算F1分数和准确度"
   ]
  },
  {
   "cell_type": "code",
   "execution_count": null,
   "id": "f3ccf9b8-148e-4020-b51f-017f6616274f",
   "metadata": {
    "is_executing": true
   },
   "outputs": [],
   "source": [
    "f1_xgb = f1_score(y_test, y_pred_xgb)\n",
    "accuracy_xgb = accuracy_score(y_test, y_pred_xgb)"
   ]
  },
  {
   "cell_type": "markdown",
   "id": "48298961-8f11-49df-8d67-eac08e97f8ac",
   "metadata": {},
   "source": [
    "结果"
   ]
  },
  {
   "cell_type": "code",
   "execution_count": null,
   "id": "02d5995f-fc1b-493f-8ca8-20b64cefc8b0",
   "metadata": {
    "is_executing": true
   },
   "outputs": [],
   "source": [
    "print(\"\\nXGBoost:\")\n",
    "print(\"F1 Score: {:.4f}\".format(f1_xgb))\n",
    "print(\"Accuracy: {:.4f}\".format(accuracy_xgb))\n",
    "print(\"Training Time: {:.4f} seconds\".format(training_time_xgb))\n",
    "print(\"Predicting Time: {:.4f} seconds\".format(predicting_time_xgb))"
   ]
  },
  {
   "cell_type": "markdown",
   "id": "cb916886-2fd1-4c69-82fb-be598cbf9760",
   "metadata": {},
   "source": [
    "计算AURPC"
   ]
  },
  {
   "cell_type": "code",
   "execution_count": null,
   "id": "27525913-5923-4faa-b62c-dfde6d417287",
   "metadata": {
    "is_executing": true
   },
   "outputs": [],
   "source": [
    "precision_xgb, recall_xgb, _ = precision_recall_curve(y_test, y_pred_xgb)\n",
    "auprc_xgb = auc(recall_xgb, precision_xgb)\n",
    "plt.figure(figsize=(8, 8))\n",
    "plt.plot(recall_xgb, precision_xgb, label=f'XGBoost (AUPRC = {auprc_xgb:.2f})', color='green')\n",
    "plt.xlabel('Recall')\n",
    "plt.ylabel('Precision')\n",
    "plt.title('Precision-Recall Curve')\n",
    "plt.legend(loc='best')\n",
    "plt.show()"
   ]
  }
 ],
 "metadata": {
  "kernelspec": {
   "display_name": "Python 3.11.4 64-bit",
   "language": "python",
   "name": "python3"
  },
  "language_info": {
   "codemirror_mode": {
    "name": "ipython",
    "version": 3
   },
   "file_extension": ".py",
   "mimetype": "text/x-python",
   "name": "python",
   "nbconvert_exporter": "python",
   "pygments_lexer": "ipython3",
   "version": "3.11.4"
  },
  "vscode": {
   "interpreter": {
    "hash": "184b438a4f5c8d8d4fd4471ecd021b32ddfa5e4dd33d35a5e9da480735e43307"
   }
  }
 },
 "nbformat": 4,
 "nbformat_minor": 5
}
